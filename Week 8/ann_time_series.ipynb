{
 "cells": [
  {
   "cell_type": "code",
   "execution_count": null,
   "metadata": {
    "id": "hSRe-mCX8RdE"
   },
   "outputs": [],
   "source": [
    "import io\n",
    "import pandas as pd\n",
    "import numpy as np\n",
    "import scipy as sci\n",
    "\n",
    "from sklearn.preprocessing import MinMaxScaler # found in the scikit-learn package\n",
    "from numpy import loadtxt\n",
    "from keras.models import Sequential\n",
    "from keras.layers import Dense\n",
    "from keras.layers import LSTM\n",
    "from keras.optimizers import SGD\n",
    "from keras.optimizers import Adam\n",
    "import matplotlib.pyplot as plt\n",
    "\n",
    "from sklearn.metrics import r2_score\n",
    "from sklearn.metrics import mean_squared_error\n",
    "from sklearn.model_selection import train_test_split\n"
   ]
  },
  {
   "cell_type": "code",
   "execution_count": null,
   "metadata": {
    "colab": {
     "base_uri": "https://localhost:8080/",
     "height": 203
    },
    "id": "vDwlafar8jeJ",
    "outputId": "73f56cb2-1622-454d-fa2e-e4594fab985b"
   },
   "outputs": [],
   "source": [
    "# The path where the CSV file is located\n",
    "# Use your own path\n",
    "path = \"data-ts.csv\"\n",
    "\n",
    "# Read the CSV file and store it as a pandas DataFrame\n",
    "df = pd.read_csv(path)\n",
    "\n",
    "df.index = df.index + 1 #Initialize the index at 1\n",
    "\n",
    "# Lag the data frame\n",
    "data = pd.concat([df.shift(1), df.shift(2), df.shift(3), df], axis=1)\n",
    "data.columns = ['x1','x2', 'x3', 'y']\n",
    "data = data.iloc[4:,]\n",
    "data.head()"
   ]
  },
  {
   "cell_type": "code",
   "execution_count": null,
   "metadata": {
    "id": "0NbetIXFiDta"
   },
   "outputs": [],
   "source": [
    "# Pick 80% of the data but keeps the original sequence (R)\n",
    "train = data[:int(data.shape[0]*0.8)]\n",
    "test = data[int(data.shape[0]*0.8):]\n",
    "\n",
    "# Clean data in case of missing data\n",
    "data = data.dropna()\n",
    "train = train.dropna()\n",
    "test = test.dropna()"
   ]
  },
  {
   "cell_type": "code",
   "execution_count": null,
   "metadata": {
    "id": "n9OaJTbn-ith"
   },
   "outputs": [],
   "source": [
    "# Calculate parameter for scaling back the outcome variable, both for the prediction and the actual values\n",
    "ytrain_min = float(train.min()['y'])\n",
    "ytrain_max = float(train.max()['y'])\n",
    "ytrain_range = ytrain_max - ytrain_min\n",
    "\n",
    "ytest_min = float(test.min()['y'])\n",
    "ytest_max = float(test.max()['y'])\n",
    "ytest_range = ytest_max - ytest_min"
   ]
  },
  {
   "cell_type": "code",
   "execution_count": null,
   "metadata": {
    "id": "Ignooxyc-itj"
   },
   "outputs": [],
   "source": [
    "# Normalize the data frame\n",
    "def scale(data):\n",
    "    scaled_data = data.copy()\n",
    "    for column in data.columns: \n",
    "      scaled_data[column] = (data[column] - data[column].min()) / (data[column].max() - data[column].min())\n",
    "    return scaled_data"
   ]
  },
  {
   "cell_type": "code",
   "execution_count": null,
   "metadata": {
    "id": "bIQ28hOc-itk"
   },
   "outputs": [],
   "source": [
    "# Scale back the data frame\n",
    "def scale_back(data, data_min, data_range):\n",
    "    data_ = data.copy()\n",
    "    data_.head()\n",
    "    for column in data_.columns: \n",
    "        data_[column] = (data_range) * data_[column] + data_min\n",
    "    return data_"
   ]
  },
  {
   "cell_type": "code",
   "execution_count": null,
   "metadata": {
    "id": "uyh9WTAEqbqE"
   },
   "outputs": [],
   "source": [
    "# Normalize the train data in the range of 0-1\n",
    "train_ = scale(train)"
   ]
  },
  {
   "cell_type": "code",
   "execution_count": null,
   "metadata": {
    "colab": {
     "base_uri": "https://localhost:8080/",
     "height": 417
    },
    "id": "2jnkH7aIq7fF",
    "outputId": "84e4d2d6-229d-4d0c-aa16-42f5a20849b3"
   },
   "outputs": [],
   "source": [
    "# Normalize the test data in the range of 0-1\n",
    "test_ = scale(test)\n",
    "test_\n"
   ]
  },
  {
   "cell_type": "code",
   "execution_count": null,
   "metadata": {
    "colab": {
     "base_uri": "https://localhost:8080/",
     "height": 203
    },
    "id": "Y3vjqdLfdavr",
    "outputId": "2d6849a8-ed12-43ea-db4e-5cfdfdd9e472"
   },
   "outputs": [],
   "source": [
    "# Separate the input (x) and output (y)\n",
    "n = train_.columns                                    #column labels\n",
    "xtrain = train_.filter(items = ['x1','x2','x3'])  #input of the training set\n",
    "ytrain = train_.filter(items = ['y'])                    #output of the training set\n",
    "\n",
    "xtest = test_.filter(items = ['x1','x2','x3'])  #input of the test set\n",
    "ytest = test_.filter(items = ['y'])                    #output of the test set\n",
    "\n",
    "ytest.head()\n"
   ]
  },
  {
   "cell_type": "code",
   "execution_count": null,
   "metadata": {
    "colab": {
     "base_uri": "https://localhost:8080/"
    },
    "id": "g9ftQmTt-itt",
    "outputId": "e8dac2ee-ff15-475d-a11e-9faef719e9a1"
   },
   "outputs": [],
   "source": [
    "# Train a neural network model\n",
    "# https://www.tensorflow.org/api_docs/python/tf/keras/activations\n",
    "model = Sequential()\n",
    "\n",
    "# First add a layer with 3 neurons for 3 input variables (3 lags)\n",
    "# and the RELU activation function\n",
    "model.add(Dense(3, input_dim=3, activation='relu'))\n",
    "\n",
    "# Then add a hidden layer with 8 neurons\n",
    "# and the sigmoid activation function\n",
    "model.add(Dense(8, activation='sigmoid'))\n",
    "\n",
    "# Then add the output layer with 1 neuron\n",
    "# and the RELU activation function\n",
    "model.add(Dense(1, activation='relu'))\n",
    "model.build((None, 3))\n",
    "model.summary()\n",
    "print(model.count_params())\n",
    "\n",
    "opt = Adam(learning_rate=0.0005)\n",
    "model.compile(loss='mse', optimizer=opt, metrics=['mean_squared_error'])\n",
    "model.fit(x=xtrain,y=ytrain, epochs=500, verbose=0)\n",
    "#print(model.weights)"
   ]
  },
  {
   "cell_type": "code",
   "execution_count": null,
   "metadata": {
    "id": "fDSigMBHwSIZ"
   },
   "outputs": [],
   "source": [
    "# Use the model to calculate predictions for the train set\n",
    "y_pred = model.predict(xtrain)\n",
    "y_pred_df = pd.DataFrame(y_pred)\n",
    "y_pred_df.columns =['y'] \n"
   ]
  },
  {
   "cell_type": "code",
   "execution_count": null,
   "metadata": {
    "colab": {
     "base_uri": "https://localhost:8080/",
     "height": 203
    },
    "id": "1ssoUl6uxa4W",
    "outputId": "a85aa7ca-bcdc-4a89-a089-a353be98dd89"
   },
   "outputs": [],
   "source": [
    "# Scale back the predictions and original values\n",
    "y_pred_rescaled = scale_back(pd.DataFrame(y_pred), ytrain_min, ytrain_range)\n",
    "y_pred_rescaled.columns =['y'] \n",
    "y_train_rescaled = scale_back(pd.DataFrame(ytrain), ytrain_min, ytrain_range)\n",
    "y_train_rescaled.head()"
   ]
  },
  {
   "cell_type": "code",
   "execution_count": null,
   "metadata": {
    "colab": {
     "base_uri": "https://localhost:8080/"
    },
    "id": "qtlJJ_KyyNJ3",
    "outputId": "220ad421-76bd-4fe0-fe28-6cc08b275c30"
   },
   "outputs": [],
   "source": [
    "# r-squared\n",
    "r2_squared = r2_score(y_train_rescaled, y_pred_rescaled)\n",
    "print('R-squared score of the train set:', round(r2_squared,4))\n",
    "\n",
    "# mean squared error\n",
    "mse = mean_squared_error(y_train_rescaled, y_pred_rescaled)\n",
    "rmse = np.sqrt(mse)\n",
    "print('Root mean squared error of the train set:', round(rmse,4))\n",
    "\n",
    "# AIC\n",
    "# trainable_weights includes neuron weights and biases\n",
    "param_num = model.count_params()\n",
    "print(\"Total number of parameters: \", param_num)\n",
    "aic = train.shape[0] * np.log(mse) + 2*param_num\n",
    "print(\"Akaike Information Criterion:\", round(aic, 4))"
   ]
  },
  {
   "cell_type": "code",
   "execution_count": null,
   "metadata": {
    "colab": {
     "base_uri": "https://localhost:8080/",
     "height": 203
    },
    "id": "TvAjqXjyjf5A",
    "outputId": "fcf10d13-aa83-415f-b110-99fd10d2235d"
   },
   "outputs": [],
   "source": [
    "# Use the model to calculate predictions for the test set\n",
    "y_pred = model.predict(xtest)\n",
    "y_pred_df = pd.DataFrame(y_pred)\n",
    "y_pred_df.columns =['y'] \n",
    "y_pred_df.head()"
   ]
  },
  {
   "cell_type": "code",
   "execution_count": null,
   "metadata": {
    "colab": {
     "base_uri": "https://localhost:8080/",
     "height": 203
    },
    "id": "Is01nHa6-itv",
    "outputId": "6020d919-c9bc-482d-9f6e-2a852bd8e4d1"
   },
   "outputs": [],
   "source": [
    "# Scale back the predictions and original values for the test set\n",
    "y_pred_rescaled = scale_back(pd.DataFrame(y_pred), ytest_min, ytest_range)\n",
    "y_pred_rescaled.columns =['y'] \n",
    "y_test_rescaled = scale_back(pd.DataFrame(ytest), ytest_min, ytest_range)\n",
    "y_test_rescaled.head()\n"
   ]
  },
  {
   "cell_type": "code",
   "execution_count": null,
   "metadata": {
    "colab": {
     "base_uri": "https://localhost:8080/"
    },
    "id": "2jWoTdal-itx",
    "outputId": "50af8515-2954-4ddd-9661-242670063e39"
   },
   "outputs": [],
   "source": [
    "# r-squared with test set\n",
    "r2_squared = r2_score(y_test_rescaled, y_pred_rescaled)\n",
    "print('R-squared score of the test set:', round(r2_squared,4))\n",
    "\n",
    "# mean squared error with the test set\n",
    "mse = mean_squared_error(y_test_rescaled, y_pred_rescaled)\n",
    "rmse = np.sqrt(mse)\n",
    "print('Root mean squared error of the test set:', round(rmse,4))\n",
    " "
   ]
  },
  {
   "cell_type": "code",
   "execution_count": null,
   "metadata": {
    "colab": {
     "base_uri": "https://localhost:8080/",
     "height": 367
    },
    "id": "DyhcqmrL-itz",
    "outputId": "9d905a95-a013-467e-c4c8-5bd38ed45213"
   },
   "outputs": [],
   "source": [
    "# Generate a scatter plot of predicted vs actual data\n",
    "plt.figure(figsize=(5,5))\n",
    "plt.scatter(x = y_test_rescaled, y = y_pred_rescaled)\n",
    "plt.xlabel(\"'actual'\")\n",
    "plt.ylabel(\"'predicted'\")\n",
    "plt.title(\"Scatter plot of predicted vs actual data\")"
   ]
  },
  {
   "cell_type": "code",
   "execution_count": null,
   "metadata": {
    "id": "4wOdv7tr-it0"
   },
   "outputs": [],
   "source": [
    "# Add a time column for plotting purposes\n",
    "y_test_rescaled['time'] = y_test_rescaled.index\n",
    "y_test_rescaled = y_test_rescaled.sort_values(by=['time'])\n",
    "y_actual = pd.DataFrame(y_test_rescaled['y'])\n",
    "y_actual.reset_index(drop=True, inplace=True)\n",
    "\n",
    "y_pred_rescaled['time'] = y_test_rescaled.index\n",
    "y_pred_rescaled = y_pred_rescaled.sort_values(by=['time'])\n",
    "y_hat = pd.DataFrame(y_pred_rescaled['y'])\n",
    "y_hat.reset_index(drop=True, inplace=True)\n",
    "\n",
    "time = y_test_rescaled['time']\n",
    "\n",
    "# To export the predictions and test values to a CSV file\n",
    "df.to_csv(r'Path where you want to store the exported CSV file\\File Name.csv', index = False)\n",
    "y_test_rescaled.to_csv(r'ytest.csv', index = False)\n",
    "y_pred_rescaled.to_csv(r'yhat.csv', index = False)\n"
   ]
  },
  {
   "cell_type": "code",
   "execution_count": null,
   "metadata": {
    "colab": {
     "base_uri": "https://localhost:8080/",
     "height": 497
    },
    "id": "tS01B4Pr-it3",
    "outputId": "465345ce-d30a-47ae-cd27-0c40bc08cd41"
   },
   "outputs": [],
   "source": [
    "\n",
    "\n",
    "plt.figure(figsize=(20, 10))\n",
    "plt.plot(time, y_actual, linestyle='solid', color='r')\n",
    "plt.plot(time, y_hat, linestyle='dashed', color='b')\n",
    "\n",
    "plt.legend(['Actual','Predicted'], loc='best', prop={'size': 14})\n",
    "plt.title('Actual vs Predicted values', weight='bold', fontsize=16)\n",
    "#plt.ylabel('demand', weight='bold', fontsize=14)\n",
    "#plt.xlabel('time', weight='bold', fontsize=14)\n",
    "plt.xticks(weight='bold', fontsize=12, rotation=45)\n",
    "plt.yticks(weight='bold', fontsize=12)\n",
    "plt.grid(color = 'y', linewidth='0.5')\n",
    "plt.show()\n",
    "\n"
   ]
  }
 ],
 "metadata": {
  "colab": {
   "collapsed_sections": [],
   "name": "ann-time-series.ipynb",
   "provenance": []
  },
  "kernelspec": {
   "display_name": "FHWS vLab Python 3",
   "language": "python",
   "name": "python3"
  },
  "language_info": {
   "codemirror_mode": {
    "name": "ipython",
    "version": 3
   },
   "file_extension": ".py",
   "mimetype": "text/x-python",
   "name": "python",
   "nbconvert_exporter": "python",
   "pygments_lexer": "ipython3",
   "version": "3.8.3"
  }
 },
 "nbformat": 4,
 "nbformat_minor": 4
}
